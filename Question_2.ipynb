{
 "cells": [
  {
   "cell_type": "code",
   "execution_count": 1,
   "metadata": {},
   "outputs": [
    {
     "data": {
      "text/plain": [
       "-1"
      ]
     },
     "execution_count": 1,
     "metadata": {},
     "output_type": "execute_result"
    }
   ],
   "source": [
    "import cv2\n",
    "import numpy as np\n",
    "\n",
    "def intersect(b1, b2):\n",
    "    x1, y1, w1, h1 = b1\n",
    "    x2, y2, w2, h2 = b2\n",
    "    return x2 + w2 > x1 > x2 - w1 and y2 + h2 > y1 > y2 - h1\n",
    "\n",
    "np.random.seed(55)\n",
    "boxes = np.random.randint(2, 150, (2, 4, 2)) + np.random.randint(0, 300, (2, 4, 2))\n",
    "\n",
    "bounds = [cv2.boundingRect(box) for box in boxes]\n",
    "valids = [b1 for b1 in bounds if not any(intersect(b1, b2) for b2 in bounds if b1 != b2)]\n",
    "\n",
    "img = np.zeros((500, 500), \"uint8\")\n",
    "for x, y, w, h in bounds:\n",
    "    cv2.rectangle(img, (x, y), (x + w, y + h), 255, 1)\n",
    "\n",
    "if valids:\n",
    "    x, y, w, h = max(valids, key=lambda b: b[2] * b[3])\n",
    "    cv2.rectangle(img, (x, y), (x + w, y + h), 128, -1)\n",
    "\n",
    "cv2.imshow(\"Bounding Box\", img)\n",
    "cv2.waitKey(0)"
   ]
  },
  {
   "cell_type": "code",
   "execution_count": null,
   "metadata": {},
   "outputs": [],
   "source": []
  }
 ],
 "metadata": {
  "kernelspec": {
   "display_name": "Python 3",
   "language": "python",
   "name": "python3"
  },
  "language_info": {
   "codemirror_mode": {
    "name": "ipython",
    "version": 3
   },
   "file_extension": ".py",
   "mimetype": "text/x-python",
   "name": "python",
   "nbconvert_exporter": "python",
   "pygments_lexer": "ipython3",
   "version": "3.7.3"
  }
 },
 "nbformat": 4,
 "nbformat_minor": 2
}
