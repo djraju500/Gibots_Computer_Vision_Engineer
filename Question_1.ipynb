{
 "cells": [
  {
   "cell_type": "code",
   "execution_count": 3,
   "metadata": {},
   "outputs": [],
   "source": [
    "import cv2\n",
    " \n",
    "image = cv2.imread('AutoCAD_Sample.png')\n",
    " \n",
    "cv2.circle(image,(1, 0), 25, (0,255,0))\n",
    "cv2.circle(image,(2, -7), 25, (0,0,255))\n",
    "cv2.circle(image,(8, 1), 25, (0,255,0))\n",
    "cv2.circle(image,(9, -6), 25, (0,0,255))\n",
    " \n",
    "cv2.imshow('points are not lying on the same circle',image)\n",
    "cv2.waitKey(0)\n",
    "cv2.destroyAllWindows()"
   ]
  },
  {
   "cell_type": "code",
   "execution_count": null,
   "metadata": {},
   "outputs": [],
   "source": []
  },
  {
   "cell_type": "code",
   "execution_count": null,
   "metadata": {},
   "outputs": [],
   "source": []
  }
 ],
 "metadata": {
  "kernelspec": {
   "display_name": "Python 3",
   "language": "python",
   "name": "python3"
  }
 },
 "nbformat": 4,
 "nbformat_minor": 2
}
