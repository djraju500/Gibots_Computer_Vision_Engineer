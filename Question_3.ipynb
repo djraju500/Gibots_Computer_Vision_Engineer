{
 "cells": [
  {
   "cell_type": "code",
   "execution_count": 1,
   "metadata": {},
   "outputs": [
    {
     "data": {
      "text/plain": [
       "-1"
      ]
     },
     "execution_count": 1,
     "metadata": {},
     "output_type": "execute_result"
    }
   ],
   "source": [
    "import numpy as np\n",
    "import cv2\n",
    "\n",
    "width = 100\n",
    "height = 100\n",
    "\n",
    "\n",
    "img = np.zeros((height, width, 3), np.uint8)\n",
    "\n",
    "\n",
    "p1 = (1, 0)\n",
    "p2 = (2, -7)\n",
    "p3 = (8, 1)\n",
    "p4 = (9, -6)\n",
    "p5 = (8, 2)\n",
    "p6 = (7, -7)\n",
    "p7 = (8, -7)\n",
    "\n",
    "\n",
    "cv2.line(img, p1, p2, (255, 0, 0), 7)\n",
    "cv2.line(img, p2, p3, (255, 0, 0), 7)\n",
    "cv2.line(img, p3, p4, (255, 0, 0), 7)\n",
    "cv2.line(img, p4, p5, (255, 0, 0), 7)\n",
    "cv2.line(img, p5, p6, (255, 0, 0), 7)\n",
    "cv2.line(img, p6, p7, (255, 0, 0), 7)\n",
    "cv2.line(img, p1, p7, (255, 0, 0), 7)\n",
    "\n",
    "\n",
    "\n",
    "centroid = ((p1[0]+p2[0]+p3[0]+p4[0]+p5[0]+p6[0]+p7[0])//7, (p1[1]+p2[1]+p3[1]+p4[1]+p5[1]+p6[1]+p7[1])//7)\n",
    "\n",
    "\n",
    "cv2.circle(img, centroid, 4, (0, 255, 0))\n",
    "\n",
    "\n",
    "cv2.imshow(\"Triangle\", img)\n",
    "cv2.waitKey(0)\n"
   ]
  },
  {
   "cell_type": "code",
   "execution_count": null,
   "metadata": {},
   "outputs": [],
   "source": []
  }
 ],
 "metadata": {
  "kernelspec": {
   "display_name": "Python 3",
   "language": "python",
   "name": "python3"
  },
  "language_info": {
   "codemirror_mode": {
    "name": "ipython",
    "version": 3
   },
   "file_extension": ".py",
   "mimetype": "text/x-python",
   "name": "python",
   "nbconvert_exporter": "python",
   "pygments_lexer": "ipython3",
   "version": "3.7.3"
  }
 },
 "nbformat": 4,
 "nbformat_minor": 2
}
